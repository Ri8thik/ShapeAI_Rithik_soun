{
  "nbformat": 4,
  "nbformat_minor": 0,
  "metadata": {
    "colab": {
      "name": "Rithik Soun.ipynb",
      "provenance": [],
      "collapsed_sections": []
    },
    "kernelspec": {
      "name": "python3",
      "display_name": "Python 3"
    },
    "language_info": {
      "name": "python"
    }
  },
  "cells": [
    {
      "cell_type": "code",
      "metadata": {
        "id": "Pkq9Km_q2oSl"
      },
      "source": [
        "## IMPORTING DATASET\n",
        "from keras.datasets import mnist\n",
        "\n",
        "data =mnist.load_data()"
      ],
      "execution_count": 1,
      "outputs": []
    },
    {
      "cell_type": "markdown",
      "metadata": {
        "id": "kDWBjr7U4ONi"
      },
      "source": [
        "Define Traing and testing data\n"
      ]
    },
    {
      "cell_type": "code",
      "metadata": {
        "id": "JIUMNURE4WlC"
      },
      "source": [
        "((X_train,y_train),(X_test,y_test))= data"
      ],
      "execution_count": 2,
      "outputs": []
    },
    {
      "cell_type": "code",
      "metadata": {
        "colab": {
          "base_uri": "https://localhost:8080/"
        },
        "id": "NZxGd3uB5hvm",
        "outputId": "2a772206-223f-45e0-8396-b8690458cc25"
      },
      "source": [
        "## Shape of Training Data \n",
        "X_train[0].shape"
      ],
      "execution_count": 3,
      "outputs": [
        {
          "output_type": "execute_result",
          "data": {
            "text/plain": [
              "(28, 28)"
            ]
          },
          "metadata": {
            "tags": []
          },
          "execution_count": 3
        }
      ]
    },
    {
      "cell_type": "code",
      "metadata": {
        "colab": {
          "base_uri": "https://localhost:8080/"
        },
        "id": "1q9DT9h88mGh",
        "outputId": "9c71944c-df2f-4e7f-e6fa-7dc172e462ea"
      },
      "source": [
        "X_train.shape"
      ],
      "execution_count": 4,
      "outputs": [
        {
          "output_type": "execute_result",
          "data": {
            "text/plain": [
              "(60000, 28, 28)"
            ]
          },
          "metadata": {
            "tags": []
          },
          "execution_count": 4
        }
      ]
    },
    {
      "cell_type": "code",
      "metadata": {
        "id": "4E-jNXeH6ihb"
      },
      "source": [
        "## Reshape the Training data \n",
        "X_train=X_train.reshape((X_train.shape[0],28*28)).astype(\"float32\")\n",
        "X_test=X_test.reshape((X_test.shape[0],28*28)).astype(\"float32\")"
      ],
      "execution_count": 5,
      "outputs": []
    },
    {
      "cell_type": "code",
      "metadata": {
        "id": "dyqsLp0C7HqZ"
      },
      "source": [
        "## Normalizing values from 0-255 to 0-1\n",
        "X_train=X_train/255\n",
        "X_test=X_test/255"
      ],
      "execution_count": 6,
      "outputs": []
    },
    {
      "cell_type": "code",
      "metadata": {
        "id": "FKBF3WiS8KSM"
      },
      "source": [
        "from keras.utils import np_utils\n",
        "\n",
        "y_train=np_utils.to_categorical(y_train)\n",
        "y_test=np_utils.to_categorical(y_test)\n",
        "num_classes=y_test.shape[1]"
      ],
      "execution_count": 7,
      "outputs": []
    },
    {
      "cell_type": "code",
      "metadata": {
        "id": "AlCaqX9M9yv5"
      },
      "source": [
        "from keras.models import Sequential\n",
        "from keras.layers import Dense"
      ],
      "execution_count": 8,
      "outputs": []
    },
    {
      "cell_type": "code",
      "metadata": {
        "id": "MxtAUnO5-ows"
      },
      "source": [
        "## Define model \n",
        "model = Sequential()\n",
        "\n",
        "## Add First Hidden Layer\n",
        "model.add(Dense(32,input_dim=28*28,activation='relu'))\n",
        "\n",
        "## Add Second Hiddeen Layer\n",
        "model.add(Dense(64,activation='relu'))\n",
        "\n",
        "## Add output layer having 10 neurons (since there are 10 classes/categories in)\n",
        "model.add(Dense(10,activation='softmax'))"
      ],
      "execution_count": 9,
      "outputs": []
    },
    {
      "cell_type": "code",
      "metadata": {
        "id": "EDHapiXJ_3vM"
      },
      "source": [
        "##Compile Model\n",
        "model.compile(loss='categorical_crossentropy',optimizer='adam',metrics=['accuracy'])"
      ],
      "execution_count": 10,
      "outputs": []
    },
    {
      "cell_type": "code",
      "metadata": {
        "colab": {
          "base_uri": "https://localhost:8080/"
        },
        "id": "-n7-isiuA-YW",
        "outputId": "64295481-ddad-4f55-922a-1506909aa33e"
      },
      "source": [
        "##Print Model summary\n",
        "model.summary()"
      ],
      "execution_count": 11,
      "outputs": [
        {
          "output_type": "stream",
          "text": [
            "Model: \"sequential\"\n",
            "_________________________________________________________________\n",
            "Layer (type)                 Output Shape              Param #   \n",
            "=================================================================\n",
            "dense (Dense)                (None, 32)                25120     \n",
            "_________________________________________________________________\n",
            "dense_1 (Dense)              (None, 64)                2112      \n",
            "_________________________________________________________________\n",
            "dense_2 (Dense)              (None, 10)                650       \n",
            "=================================================================\n",
            "Total params: 27,882\n",
            "Trainable params: 27,882\n",
            "Non-trainable params: 0\n",
            "_________________________________________________________________\n"
          ],
          "name": "stdout"
        }
      ]
    },
    {
      "cell_type": "code",
      "metadata": {
        "colab": {
          "base_uri": "https://localhost:8080/"
        },
        "id": "Pm2ikqnKBHrT",
        "outputId": "4e47212a-b5a5-4e47-cfc1-e7a155d53120"
      },
      "source": [
        "## Train Model\n",
        "model.fit(X_train,y_train,epochs=10,batch_size=100)"
      ],
      "execution_count": 12,
      "outputs": [
        {
          "output_type": "stream",
          "text": [
            "Epoch 1/10\n",
            "600/600 [==============================] - 1s 2ms/step - loss: 0.8123 - accuracy: 0.7600\n",
            "Epoch 2/10\n",
            "600/600 [==============================] - 1s 2ms/step - loss: 0.2114 - accuracy: 0.9390\n",
            "Epoch 3/10\n",
            "600/600 [==============================] - 1s 2ms/step - loss: 0.1566 - accuracy: 0.9542\n",
            "Epoch 4/10\n",
            "600/600 [==============================] - 1s 2ms/step - loss: 0.1355 - accuracy: 0.9603\n",
            "Epoch 5/10\n",
            "600/600 [==============================] - 1s 2ms/step - loss: 0.1152 - accuracy: 0.9661\n",
            "Epoch 6/10\n",
            "600/600 [==============================] - 1s 2ms/step - loss: 0.1013 - accuracy: 0.9687\n",
            "Epoch 7/10\n",
            "600/600 [==============================] - 1s 2ms/step - loss: 0.0932 - accuracy: 0.9713\n",
            "Epoch 8/10\n",
            "600/600 [==============================] - 1s 2ms/step - loss: 0.0814 - accuracy: 0.9748\n",
            "Epoch 9/10\n",
            "600/600 [==============================] - 1s 2ms/step - loss: 0.0744 - accuracy: 0.9775\n",
            "Epoch 10/10\n",
            "600/600 [==============================] - 1s 2ms/step - loss: 0.0682 - accuracy: 0.9791\n"
          ],
          "name": "stdout"
        },
        {
          "output_type": "execute_result",
          "data": {
            "text/plain": [
              "<tensorflow.python.keras.callbacks.History at 0x7fad2c1ac690>"
            ]
          },
          "metadata": {
            "tags": []
          },
          "execution_count": 12
        }
      ]
    },
    {
      "cell_type": "markdown",
      "metadata": {
        "id": "d-ufLBuKC3fI"
      },
      "source": [
        "Check Model Performance "
      ]
    },
    {
      "cell_type": "code",
      "metadata": {
        "colab": {
          "base_uri": "https://localhost:8080/"
        },
        "id": "pr3Q99rnC-gN",
        "outputId": "f464b647-7ceb-435b-ad81-aa8d37176a2a"
      },
      "source": [
        "scores=model.evaluate(X_test,y_test)\n",
        "print(scores)   ## return loss and accuracy"
      ],
      "execution_count": 13,
      "outputs": [
        {
          "output_type": "stream",
          "text": [
            "313/313 [==============================] - 0s 677us/step - loss: 0.1046 - accuracy: 0.9682\n",
            "[0.10460009425878525, 0.9682000279426575]\n"
          ],
          "name": "stdout"
        }
      ]
    },
    {
      "cell_type": "markdown",
      "metadata": {
        "id": "om6J4tOqDhKx"
      },
      "source": [
        "Make Prediction and testing Data"
      ]
    },
    {
      "cell_type": "code",
      "metadata": {
        "id": "_AAgj-0pDJYu"
      },
      "source": [
        ""
      ],
      "execution_count": 13,
      "outputs": []
    }
  ]
}